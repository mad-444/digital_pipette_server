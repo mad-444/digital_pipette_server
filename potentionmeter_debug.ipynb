{
 "cells": [
  {
   "cell_type": "code",
   "execution_count": 1,
   "id": "a8a5233e-1f23-4593-a920-d7fb32e59ecd",
   "metadata": {},
   "outputs": [],
   "source": [
    "import time\n",
    "import board\n",
    "import adafruit_ds3502"
   ]
  },
  {
   "cell_type": "code",
   "execution_count": 3,
   "id": "866bc0cf-e6a9-4e75-b90f-53a9ba8d0607",
   "metadata": {},
   "outputs": [],
   "source": [
    "i2c = board.I2C()"
   ]
  },
  {
   "cell_type": "code",
   "execution_count": 4,
   "id": "e8dc22ba-d3d7-474f-979b-8e7865e0dc3f",
   "metadata": {},
   "outputs": [],
   "source": [
    "ds3502 = adafruit_ds3502.DS3502(i2c)"
   ]
  },
  {
   "cell_type": "code",
   "execution_count": 9,
   "id": "15d8531d-445b-48c9-af26-256d3033d079",
   "metadata": {},
   "outputs": [],
   "source": [
    "ds3502.wiper = 127"
   ]
  },
  {
   "cell_type": "code",
   "execution_count": null,
   "id": "afb16217-f0aa-4678-b574-d9dee535e2d8",
   "metadata": {},
   "outputs": [],
   "source": []
  }
 ],
 "metadata": {
  "kernelspec": {
   "display_name": "Python 3 (ipykernel)",
   "language": "python",
   "name": "python3"
  },
  "language_info": {
   "codemirror_mode": {
    "name": "ipython",
    "version": 3
   },
   "file_extension": ".py",
   "mimetype": "text/x-python",
   "name": "python",
   "nbconvert_exporter": "python",
   "pygments_lexer": "ipython3",
   "version": "3.11.2"
  }
 },
 "nbformat": 4,
 "nbformat_minor": 5
}
